{
 "cells": [
  {
   "cell_type": "markdown",
   "metadata": {},
   "source": [
    "# Time series predictions: PyTorch implementation"
   ]
  },
  {
   "cell_type": "markdown",
   "metadata": {},
   "source": [
    "References and futher readings:\n",
    "1. [LSTMs for Time Series in PyTorch](https://www.jessicayung.com/lstms-for-time-series-in-pytorch/) by Jessica Yung\n",
    "2. [Time Series Prediction using LSTM with PyTorch in Python](https://stackabuse.com/time-series-prediction-using-lstm-with-pytorch-in-python/) by Usman Malik"
   ]
  },
  {
   "cell_type": "markdown",
   "metadata": {},
   "source": [
    "## Libraries import"
   ]
  },
  {
   "cell_type": "code",
   "execution_count": 1,
   "metadata": {},
   "outputs": [],
   "source": [
    "import pandas as pd\n",
    "import datetime as dt\n",
    "import numpy as np\n",
    "import torch\n",
    "from torch import nn\n",
    "from sklearn.preprocessing import MinMaxScaler\n",
    "import torch.nn.functional as F\n",
    "import matplotlib.pyplot as plt\n",
    "\n",
    "%matplotlib inline"
   ]
  },
  {
   "cell_type": "code",
   "execution_count": 2,
   "metadata": {},
   "outputs": [
    {
     "data": {
      "text/html": [
       "        <script type=\"text/javascript\">\n",
       "        window.PlotlyConfig = {MathJaxConfig: 'local'};\n",
       "        if (window.MathJax) {MathJax.Hub.Config({SVG: {font: \"STIX-Web\"}});}\n",
       "        if (typeof require !== 'undefined') {\n",
       "        require.undef(\"plotly\");\n",
       "        requirejs.config({\n",
       "            paths: {\n",
       "                'plotly': ['https://cdn.plot.ly/plotly-latest.min']\n",
       "            }\n",
       "        });\n",
       "        require(['plotly'], function(Plotly) {\n",
       "            window._Plotly = Plotly;\n",
       "        });\n",
       "        }\n",
       "        </script>\n",
       "        "
      ]
     },
     "metadata": {},
     "output_type": "display_data"
    }
   ],
   "source": [
    "from plotly.offline import download_plotlyjs, init_notebook_mode, plot, iplot\n",
    "import plotly as py\n",
    "import plotly.graph_objs as go\n",
    "import colorlover as cl\n",
    "init_notebook_mode(connected=True)"
   ]
  },
  {
   "cell_type": "markdown",
   "metadata": {},
   "source": [
    "## Data preparation"
   ]
  },
  {
   "cell_type": "code",
   "execution_count": 4,
   "metadata": {},
   "outputs": [],
   "source": [
    "sales = pd.read_csv('/Users/artyom.makarov/Documents/Computer Vision Nanodegree/Advanced Vision Models/RNN-LSTM/data/sales_full.csv',\n",
    "                   sep =';')\n",
    "sales = sales.iloc[:, :5]\n",
    "data = sales.groupby('date')['sales'].sum().reset_index()"
   ]
  },
  {
   "cell_type": "markdown",
   "metadata": {},
   "source": [
    "Converting `date` to datetime and `sales` to string. "
   ]
  },
  {
   "cell_type": "code",
   "execution_count": 5,
   "metadata": {},
   "outputs": [],
   "source": [
    "data['sales'] = data['sales'].astype('str')\n",
    "data['sales']=pd.to_numeric(data['sales'])\n",
    "data['date'] = data['date'].apply(lambda x: dt.datetime.strptime(x, '%Y-%m-%d'))"
   ]
  },
  {
   "cell_type": "code",
   "execution_count": 6,
   "metadata": {},
   "outputs": [],
   "source": [
    "data = data.sort_values('date')"
   ]
  },
  {
   "cell_type": "code",
   "execution_count": 9,
   "metadata": {},
   "outputs": [
    {
     "data": {
      "text/html": [
       "<div>\n",
       "<style scoped>\n",
       "    .dataframe tbody tr th:only-of-type {\n",
       "        vertical-align: middle;\n",
       "    }\n",
       "\n",
       "    .dataframe tbody tr th {\n",
       "        vertical-align: top;\n",
       "    }\n",
       "\n",
       "    .dataframe thead th {\n",
       "        text-align: right;\n",
       "    }\n",
       "</style>\n",
       "<table border=\"1\" class=\"dataframe\">\n",
       "  <thead>\n",
       "    <tr style=\"text-align: right;\">\n",
       "      <th></th>\n",
       "      <th>date</th>\n",
       "      <th>sales</th>\n",
       "    </tr>\n",
       "  </thead>\n",
       "  <tbody>\n",
       "    <tr>\n",
       "      <th>0</th>\n",
       "      <td>2011-01-31</td>\n",
       "      <td>29836</td>\n",
       "    </tr>\n",
       "    <tr>\n",
       "      <th>1</th>\n",
       "      <td>2011-02-28</td>\n",
       "      <td>29415</td>\n",
       "    </tr>\n",
       "    <tr>\n",
       "      <th>2</th>\n",
       "      <td>2011-03-31</td>\n",
       "      <td>47576</td>\n",
       "    </tr>\n",
       "    <tr>\n",
       "      <th>3</th>\n",
       "      <td>2011-04-30</td>\n",
       "      <td>37701</td>\n",
       "    </tr>\n",
       "    <tr>\n",
       "      <th>4</th>\n",
       "      <td>2011-05-31</td>\n",
       "      <td>41465</td>\n",
       "    </tr>\n",
       "    <tr>\n",
       "      <th>5</th>\n",
       "      <td>2011-06-30</td>\n",
       "      <td>44753</td>\n",
       "    </tr>\n",
       "    <tr>\n",
       "      <th>6</th>\n",
       "      <td>2011-07-31</td>\n",
       "      <td>34204</td>\n",
       "    </tr>\n",
       "    <tr>\n",
       "      <th>7</th>\n",
       "      <td>2011-08-31</td>\n",
       "      <td>26937</td>\n",
       "    </tr>\n",
       "    <tr>\n",
       "      <th>8</th>\n",
       "      <td>2011-09-30</td>\n",
       "      <td>41978</td>\n",
       "    </tr>\n",
       "    <tr>\n",
       "      <th>9</th>\n",
       "      <td>2011-10-31</td>\n",
       "      <td>35489</td>\n",
       "    </tr>\n",
       "  </tbody>\n",
       "</table>\n",
       "</div>"
      ],
      "text/plain": [
       "        date  sales\n",
       "0 2011-01-31  29836\n",
       "1 2011-02-28  29415\n",
       "2 2011-03-31  47576\n",
       "3 2011-04-30  37701\n",
       "4 2011-05-31  41465\n",
       "5 2011-06-30  44753\n",
       "6 2011-07-31  34204\n",
       "7 2011-08-31  26937\n",
       "8 2011-09-30  41978\n",
       "9 2011-10-31  35489"
      ]
     },
     "execution_count": 9,
     "metadata": {},
     "output_type": "execute_result"
    }
   ],
   "source": [
    "# print first 10 rows\n",
    "data.head(10)"
   ]
  },
  {
   "cell_type": "code",
   "execution_count": 10,
   "metadata": {},
   "outputs": [
    {
     "data": {
      "application/vnd.plotly.v1+json": {
       "config": {
        "linkText": "Export to plot.ly",
        "plotlyServerURL": "https://plot.ly",
        "showLink": false
       },
       "data": [
        {
         "line": {
          "color": "#dd870f"
         },
         "name": "sales amount",
         "opacity": 1,
         "type": "scatter",
         "x": [
          "2011-01-31T00:00:00",
          "2011-02-28T00:00:00",
          "2011-03-31T00:00:00",
          "2011-04-30T00:00:00",
          "2011-05-31T00:00:00",
          "2011-06-30T00:00:00",
          "2011-07-31T00:00:00",
          "2011-08-31T00:00:00",
          "2011-09-30T00:00:00",
          "2011-10-31T00:00:00",
          "2011-11-30T00:00:00",
          "2011-12-31T00:00:00",
          "2012-01-31T00:00:00",
          "2012-02-29T00:00:00",
          "2012-03-31T00:00:00",
          "2012-04-30T00:00:00",
          "2012-05-31T00:00:00",
          "2012-06-30T00:00:00",
          "2012-07-31T00:00:00",
          "2012-08-31T00:00:00",
          "2012-09-30T00:00:00",
          "2012-10-31T00:00:00",
          "2012-11-30T00:00:00",
          "2012-12-31T00:00:00",
          "2013-01-31T00:00:00",
          "2013-02-28T00:00:00",
          "2013-03-31T00:00:00",
          "2013-04-30T00:00:00",
          "2013-05-31T00:00:00",
          "2013-06-30T00:00:00",
          "2013-07-31T00:00:00",
          "2013-08-31T00:00:00",
          "2013-09-30T00:00:00",
          "2013-10-31T00:00:00",
          "2013-11-30T00:00:00",
          "2013-12-31T00:00:00",
          "2014-01-31T00:00:00",
          "2014-02-28T00:00:00",
          "2014-03-31T00:00:00",
          "2014-04-30T00:00:00",
          "2014-05-31T00:00:00",
          "2014-06-30T00:00:00",
          "2014-07-31T00:00:00",
          "2014-08-31T00:00:00",
          "2014-09-30T00:00:00",
          "2014-10-31T00:00:00",
          "2014-11-30T00:00:00",
          "2014-12-31T00:00:00",
          "2015-01-31T00:00:00",
          "2015-02-28T00:00:00",
          "2015-03-31T00:00:00",
          "2015-04-30T00:00:00",
          "2015-05-31T00:00:00",
          "2015-06-30T00:00:00",
          "2015-07-31T00:00:00",
          "2015-08-31T00:00:00",
          "2015-09-30T00:00:00",
          "2015-10-31T00:00:00",
          "2015-11-30T00:00:00",
          "2015-12-31T00:00:00",
          "2016-01-31T00:00:00",
          "2016-02-29T00:00:00",
          "2016-03-31T00:00:00",
          "2016-04-30T00:00:00",
          "2016-05-31T00:00:00",
          "2016-06-30T00:00:00",
          "2016-07-31T00:00:00",
          "2016-08-31T00:00:00",
          "2016-09-30T00:00:00",
          "2016-10-31T00:00:00",
          "2016-11-30T00:00:00",
          "2016-12-31T00:00:00",
          "2017-01-31T00:00:00",
          "2017-02-28T00:00:00",
          "2017-03-31T00:00:00",
          "2017-04-30T00:00:00",
          "2017-05-31T00:00:00",
          "2017-06-30T00:00:00",
          "2017-07-31T00:00:00",
          "2017-08-31T00:00:00",
          "2017-09-30T00:00:00",
          "2017-10-31T00:00:00",
          "2017-11-30T00:00:00",
          "2017-12-31T00:00:00",
          "2018-01-31T00:00:00",
          "2018-02-28T00:00:00",
          "2018-03-31T00:00:00",
          "2018-04-30T00:00:00",
          "2018-05-31T00:00:00",
          "2018-06-30T00:00:00",
          "2018-07-31T00:00:00",
          "2018-08-31T00:00:00",
          "2018-09-30T00:00:00",
          "2018-10-31T00:00:00",
          "2018-11-30T00:00:00",
          "2018-12-31T00:00:00"
         ],
         "y": [
          29836,
          29415,
          47576,
          37701,
          41465,
          44753,
          34204,
          26937,
          41978,
          35489,
          38374,
          41527,
          30241,
          31388,
          45265,
          34666,
          37730,
          42019,
          29505,
          25794,
          36081,
          34843,
          35864,
          38555,
          29614,
          28627,
          40576,
          33702,
          35660,
          40938,
          33650,
          26998,
          40952,
          36127,
          37945,
          43051,
          30372,
          29948,
          47850,
          37262,
          40449,
          43132,
          36439,
          29257,
          44491,
          40680,
          38941,
          47045,
          30854,
          29985,
          46887,
          38124,
          39919,
          46520,
          38128,
          30195,
          45539,
          45800,
          49056,
          62125,
          33760,
          34551,
          52279,
          42434,
          42107,
          51431,
          41681,
          32826,
          48259,
          45442,
          48755,
          60804,
          35475,
          36515,
          57158,
          46895,
          47247,
          54351,
          44278,
          37879,
          53674,
          47841,
          51738,
          58526,
          43439,
          40929,
          63038,
          52635,
          53539,
          64058,
          50931,
          43361,
          60622,
          53509,
          56034,
          60157
         ]
        },
        {
         "line": {
          "color": "#7F7F7F"
         },
         "name": "moving-average",
         "opacity": 1,
         "type": "scatter",
         "x": [
          "2011-01-31T00:00:00",
          "2011-02-28T00:00:00",
          "2011-03-31T00:00:00",
          "2011-04-30T00:00:00",
          "2011-05-31T00:00:00",
          "2011-06-30T00:00:00",
          "2011-07-31T00:00:00",
          "2011-08-31T00:00:00",
          "2011-09-30T00:00:00",
          "2011-10-31T00:00:00",
          "2011-11-30T00:00:00",
          "2011-12-31T00:00:00",
          "2012-01-31T00:00:00",
          "2012-02-29T00:00:00",
          "2012-03-31T00:00:00",
          "2012-04-30T00:00:00",
          "2012-05-31T00:00:00",
          "2012-06-30T00:00:00",
          "2012-07-31T00:00:00",
          "2012-08-31T00:00:00",
          "2012-09-30T00:00:00",
          "2012-10-31T00:00:00",
          "2012-11-30T00:00:00",
          "2012-12-31T00:00:00",
          "2013-01-31T00:00:00",
          "2013-02-28T00:00:00",
          "2013-03-31T00:00:00",
          "2013-04-30T00:00:00",
          "2013-05-31T00:00:00",
          "2013-06-30T00:00:00",
          "2013-07-31T00:00:00",
          "2013-08-31T00:00:00",
          "2013-09-30T00:00:00",
          "2013-10-31T00:00:00",
          "2013-11-30T00:00:00",
          "2013-12-31T00:00:00",
          "2014-01-31T00:00:00",
          "2014-02-28T00:00:00",
          "2014-03-31T00:00:00",
          "2014-04-30T00:00:00",
          "2014-05-31T00:00:00",
          "2014-06-30T00:00:00",
          "2014-07-31T00:00:00",
          "2014-08-31T00:00:00",
          "2014-09-30T00:00:00",
          "2014-10-31T00:00:00",
          "2014-11-30T00:00:00",
          "2014-12-31T00:00:00",
          "2015-01-31T00:00:00",
          "2015-02-28T00:00:00",
          "2015-03-31T00:00:00",
          "2015-04-30T00:00:00",
          "2015-05-31T00:00:00",
          "2015-06-30T00:00:00",
          "2015-07-31T00:00:00",
          "2015-08-31T00:00:00",
          "2015-09-30T00:00:00",
          "2015-10-31T00:00:00",
          "2015-11-30T00:00:00",
          "2015-12-31T00:00:00",
          "2016-01-31T00:00:00",
          "2016-02-29T00:00:00",
          "2016-03-31T00:00:00",
          "2016-04-30T00:00:00",
          "2016-05-31T00:00:00",
          "2016-06-30T00:00:00",
          "2016-07-31T00:00:00",
          "2016-08-31T00:00:00",
          "2016-09-30T00:00:00",
          "2016-10-31T00:00:00",
          "2016-11-30T00:00:00",
          "2016-12-31T00:00:00",
          "2017-01-31T00:00:00",
          "2017-02-28T00:00:00",
          "2017-03-31T00:00:00",
          "2017-04-30T00:00:00",
          "2017-05-31T00:00:00",
          "2017-06-30T00:00:00",
          "2017-07-31T00:00:00",
          "2017-08-31T00:00:00",
          "2017-09-30T00:00:00",
          "2017-10-31T00:00:00",
          "2017-11-30T00:00:00",
          "2017-12-31T00:00:00",
          "2018-01-31T00:00:00",
          "2018-02-28T00:00:00",
          "2018-03-31T00:00:00",
          "2018-04-30T00:00:00",
          "2018-05-31T00:00:00",
          "2018-06-30T00:00:00",
          "2018-07-31T00:00:00",
          "2018-08-31T00:00:00",
          "2018-09-30T00:00:00",
          "2018-10-31T00:00:00",
          "2018-11-30T00:00:00",
          "2018-12-31T00:00:00"
         ],
         "y": [
          29836,
          29625.5,
          35609,
          38230.666666666664,
          42247.333333333336,
          41306.333333333336,
          40140.666666666664,
          35298,
          34373,
          34801.333333333336,
          38613.666666666664,
          38463.333333333336,
          36714,
          34385.333333333336,
          35631.333333333336,
          37106.333333333336,
          39220.333333333336,
          38138.333333333336,
          36418,
          32439.333333333332,
          30460,
          32239.333333333332,
          35596,
          36420.666666666664,
          34677.666666666664,
          32265.333333333332,
          32939,
          34301.666666666664,
          36646,
          36766.666666666664,
          36749.333333333336,
          33862,
          33866.666666666664,
          34692.333333333336,
          38341.333333333336,
          39041,
          37122.666666666664,
          34457,
          36056.666666666664,
          38353.333333333336,
          41853.666666666664,
          40281,
          40006.666666666664,
          36276,
          36729,
          38142.666666666664,
          41370.666666666664,
          42222,
          38946.666666666664,
          35961.333333333336,
          35908.666666666664,
          38332,
          41643.333333333336,
          41521,
          41522.333333333336,
          38281,
          37954,
          40511.333333333336,
          46798.333333333336,
          52327,
          48313.666666666664,
          43478.666666666664,
          40196.666666666664,
          43088,
          45606.666666666664,
          45324,
          45073,
          41979.333333333336,
          40922,
          42175.666666666664,
          47485.333333333336,
          51667,
          48344.666666666664,
          44264.666666666664,
          43049.333333333336,
          46856,
          50433.333333333336,
          49497.666666666664,
          48625.333333333336,
          45502.666666666664,
          45277,
          46464.666666666664,
          51084.333333333336,
          52701.666666666664,
          51234.333333333336,
          47631.333333333336,
          49135.333333333336,
          52200.666666666664,
          56404,
          56744,
          56176,
          52783.333333333336,
          51638,
          52497.333333333336,
          56721.666666666664,
          56566.666666666664
         ]
        }
       ],
       "layout": {
        "template": {
         "data": {
          "scatter": [
           {
            "type": "scatter"
           }
          ]
         }
        },
        "title": {
         "text": "Moving average for sales amount"
        }
       }
      },
      "text/html": [
       "<div>\n",
       "        \n",
       "        \n",
       "            <div id=\"72b9ace9-2112-4d2b-957e-d33451087ddb\" class=\"plotly-graph-div\" style=\"height:525px; width:100%;\"></div>\n",
       "            <script type=\"text/javascript\">\n",
       "                require([\"plotly\"], function(Plotly) {\n",
       "                    window.PLOTLYENV=window.PLOTLYENV || {};\n",
       "                    \n",
       "                if (document.getElementById(\"72b9ace9-2112-4d2b-957e-d33451087ddb\")) {\n",
       "                    Plotly.newPlot(\n",
       "                        '72b9ace9-2112-4d2b-957e-d33451087ddb',\n",
       "                        [{\"line\": {\"color\": \"#dd870f\"}, \"name\": \"sales amount\", \"opacity\": 1, \"type\": \"scatter\", \"x\": [\"2011-01-31T00:00:00\", \"2011-02-28T00:00:00\", \"2011-03-31T00:00:00\", \"2011-04-30T00:00:00\", \"2011-05-31T00:00:00\", \"2011-06-30T00:00:00\", \"2011-07-31T00:00:00\", \"2011-08-31T00:00:00\", \"2011-09-30T00:00:00\", \"2011-10-31T00:00:00\", \"2011-11-30T00:00:00\", \"2011-12-31T00:00:00\", \"2012-01-31T00:00:00\", \"2012-02-29T00:00:00\", \"2012-03-31T00:00:00\", \"2012-04-30T00:00:00\", \"2012-05-31T00:00:00\", \"2012-06-30T00:00:00\", \"2012-07-31T00:00:00\", \"2012-08-31T00:00:00\", \"2012-09-30T00:00:00\", \"2012-10-31T00:00:00\", \"2012-11-30T00:00:00\", \"2012-12-31T00:00:00\", \"2013-01-31T00:00:00\", \"2013-02-28T00:00:00\", \"2013-03-31T00:00:00\", \"2013-04-30T00:00:00\", \"2013-05-31T00:00:00\", \"2013-06-30T00:00:00\", \"2013-07-31T00:00:00\", \"2013-08-31T00:00:00\", \"2013-09-30T00:00:00\", \"2013-10-31T00:00:00\", \"2013-11-30T00:00:00\", \"2013-12-31T00:00:00\", \"2014-01-31T00:00:00\", \"2014-02-28T00:00:00\", \"2014-03-31T00:00:00\", \"2014-04-30T00:00:00\", \"2014-05-31T00:00:00\", \"2014-06-30T00:00:00\", \"2014-07-31T00:00:00\", \"2014-08-31T00:00:00\", \"2014-09-30T00:00:00\", \"2014-10-31T00:00:00\", \"2014-11-30T00:00:00\", \"2014-12-31T00:00:00\", \"2015-01-31T00:00:00\", \"2015-02-28T00:00:00\", \"2015-03-31T00:00:00\", \"2015-04-30T00:00:00\", \"2015-05-31T00:00:00\", \"2015-06-30T00:00:00\", \"2015-07-31T00:00:00\", \"2015-08-31T00:00:00\", \"2015-09-30T00:00:00\", \"2015-10-31T00:00:00\", \"2015-11-30T00:00:00\", \"2015-12-31T00:00:00\", \"2016-01-31T00:00:00\", \"2016-02-29T00:00:00\", \"2016-03-31T00:00:00\", \"2016-04-30T00:00:00\", \"2016-05-31T00:00:00\", \"2016-06-30T00:00:00\", \"2016-07-31T00:00:00\", \"2016-08-31T00:00:00\", \"2016-09-30T00:00:00\", \"2016-10-31T00:00:00\", \"2016-11-30T00:00:00\", \"2016-12-31T00:00:00\", \"2017-01-31T00:00:00\", \"2017-02-28T00:00:00\", \"2017-03-31T00:00:00\", \"2017-04-30T00:00:00\", \"2017-05-31T00:00:00\", \"2017-06-30T00:00:00\", \"2017-07-31T00:00:00\", \"2017-08-31T00:00:00\", \"2017-09-30T00:00:00\", \"2017-10-31T00:00:00\", \"2017-11-30T00:00:00\", \"2017-12-31T00:00:00\", \"2018-01-31T00:00:00\", \"2018-02-28T00:00:00\", \"2018-03-31T00:00:00\", \"2018-04-30T00:00:00\", \"2018-05-31T00:00:00\", \"2018-06-30T00:00:00\", \"2018-07-31T00:00:00\", \"2018-08-31T00:00:00\", \"2018-09-30T00:00:00\", \"2018-10-31T00:00:00\", \"2018-11-30T00:00:00\", \"2018-12-31T00:00:00\"], \"y\": [29836, 29415, 47576, 37701, 41465, 44753, 34204, 26937, 41978, 35489, 38374, 41527, 30241, 31388, 45265, 34666, 37730, 42019, 29505, 25794, 36081, 34843, 35864, 38555, 29614, 28627, 40576, 33702, 35660, 40938, 33650, 26998, 40952, 36127, 37945, 43051, 30372, 29948, 47850, 37262, 40449, 43132, 36439, 29257, 44491, 40680, 38941, 47045, 30854, 29985, 46887, 38124, 39919, 46520, 38128, 30195, 45539, 45800, 49056, 62125, 33760, 34551, 52279, 42434, 42107, 51431, 41681, 32826, 48259, 45442, 48755, 60804, 35475, 36515, 57158, 46895, 47247, 54351, 44278, 37879, 53674, 47841, 51738, 58526, 43439, 40929, 63038, 52635, 53539, 64058, 50931, 43361, 60622, 53509, 56034, 60157]}, {\"line\": {\"color\": \"#7F7F7F\"}, \"name\": \"moving-average\", \"opacity\": 1, \"type\": \"scatter\", \"x\": [\"2011-01-31T00:00:00\", \"2011-02-28T00:00:00\", \"2011-03-31T00:00:00\", \"2011-04-30T00:00:00\", \"2011-05-31T00:00:00\", \"2011-06-30T00:00:00\", \"2011-07-31T00:00:00\", \"2011-08-31T00:00:00\", \"2011-09-30T00:00:00\", \"2011-10-31T00:00:00\", \"2011-11-30T00:00:00\", \"2011-12-31T00:00:00\", \"2012-01-31T00:00:00\", \"2012-02-29T00:00:00\", \"2012-03-31T00:00:00\", \"2012-04-30T00:00:00\", \"2012-05-31T00:00:00\", \"2012-06-30T00:00:00\", \"2012-07-31T00:00:00\", \"2012-08-31T00:00:00\", \"2012-09-30T00:00:00\", \"2012-10-31T00:00:00\", \"2012-11-30T00:00:00\", \"2012-12-31T00:00:00\", \"2013-01-31T00:00:00\", \"2013-02-28T00:00:00\", \"2013-03-31T00:00:00\", \"2013-04-30T00:00:00\", \"2013-05-31T00:00:00\", \"2013-06-30T00:00:00\", \"2013-07-31T00:00:00\", \"2013-08-31T00:00:00\", \"2013-09-30T00:00:00\", \"2013-10-31T00:00:00\", \"2013-11-30T00:00:00\", \"2013-12-31T00:00:00\", \"2014-01-31T00:00:00\", \"2014-02-28T00:00:00\", \"2014-03-31T00:00:00\", \"2014-04-30T00:00:00\", \"2014-05-31T00:00:00\", \"2014-06-30T00:00:00\", \"2014-07-31T00:00:00\", \"2014-08-31T00:00:00\", \"2014-09-30T00:00:00\", \"2014-10-31T00:00:00\", \"2014-11-30T00:00:00\", \"2014-12-31T00:00:00\", \"2015-01-31T00:00:00\", \"2015-02-28T00:00:00\", \"2015-03-31T00:00:00\", \"2015-04-30T00:00:00\", \"2015-05-31T00:00:00\", \"2015-06-30T00:00:00\", \"2015-07-31T00:00:00\", \"2015-08-31T00:00:00\", \"2015-09-30T00:00:00\", \"2015-10-31T00:00:00\", \"2015-11-30T00:00:00\", \"2015-12-31T00:00:00\", \"2016-01-31T00:00:00\", \"2016-02-29T00:00:00\", \"2016-03-31T00:00:00\", \"2016-04-30T00:00:00\", \"2016-05-31T00:00:00\", \"2016-06-30T00:00:00\", \"2016-07-31T00:00:00\", \"2016-08-31T00:00:00\", \"2016-09-30T00:00:00\", \"2016-10-31T00:00:00\", \"2016-11-30T00:00:00\", \"2016-12-31T00:00:00\", \"2017-01-31T00:00:00\", \"2017-02-28T00:00:00\", \"2017-03-31T00:00:00\", \"2017-04-30T00:00:00\", \"2017-05-31T00:00:00\", \"2017-06-30T00:00:00\", \"2017-07-31T00:00:00\", \"2017-08-31T00:00:00\", \"2017-09-30T00:00:00\", \"2017-10-31T00:00:00\", \"2017-11-30T00:00:00\", \"2017-12-31T00:00:00\", \"2018-01-31T00:00:00\", \"2018-02-28T00:00:00\", \"2018-03-31T00:00:00\", \"2018-04-30T00:00:00\", \"2018-05-31T00:00:00\", \"2018-06-30T00:00:00\", \"2018-07-31T00:00:00\", \"2018-08-31T00:00:00\", \"2018-09-30T00:00:00\", \"2018-10-31T00:00:00\", \"2018-11-30T00:00:00\", \"2018-12-31T00:00:00\"], \"y\": [29836.0, 29625.5, 35609.0, 38230.666666666664, 42247.333333333336, 41306.333333333336, 40140.666666666664, 35298.0, 34373.0, 34801.333333333336, 38613.666666666664, 38463.333333333336, 36714.0, 34385.333333333336, 35631.333333333336, 37106.333333333336, 39220.333333333336, 38138.333333333336, 36418.0, 32439.333333333332, 30460.0, 32239.333333333332, 35596.0, 36420.666666666664, 34677.666666666664, 32265.333333333332, 32939.0, 34301.666666666664, 36646.0, 36766.666666666664, 36749.333333333336, 33862.0, 33866.666666666664, 34692.333333333336, 38341.333333333336, 39041.0, 37122.666666666664, 34457.0, 36056.666666666664, 38353.333333333336, 41853.666666666664, 40281.0, 40006.666666666664, 36276.0, 36729.0, 38142.666666666664, 41370.666666666664, 42222.0, 38946.666666666664, 35961.333333333336, 35908.666666666664, 38332.0, 41643.333333333336, 41521.0, 41522.333333333336, 38281.0, 37954.0, 40511.333333333336, 46798.333333333336, 52327.0, 48313.666666666664, 43478.666666666664, 40196.666666666664, 43088.0, 45606.666666666664, 45324.0, 45073.0, 41979.333333333336, 40922.0, 42175.666666666664, 47485.333333333336, 51667.0, 48344.666666666664, 44264.666666666664, 43049.333333333336, 46856.0, 50433.333333333336, 49497.666666666664, 48625.333333333336, 45502.666666666664, 45277.0, 46464.666666666664, 51084.333333333336, 52701.666666666664, 51234.333333333336, 47631.333333333336, 49135.333333333336, 52200.666666666664, 56404.0, 56744.0, 56176.0, 52783.333333333336, 51638.0, 52497.333333333336, 56721.666666666664, 56566.666666666664]}],\n",
       "                        {\"template\": {\"data\": {\"scatter\": [{\"type\": \"scatter\"}]}}, \"title\": {\"text\": \"Moving average for sales amount\"}},\n",
       "                        {\"responsive\": true}\n",
       "                    ).then(function(){\n",
       "                            \n",
       "var gd = document.getElementById('72b9ace9-2112-4d2b-957e-d33451087ddb');\n",
       "var x = new MutationObserver(function (mutations, observer) {{\n",
       "        var display = window.getComputedStyle(gd).display;\n",
       "        if (!display || display === 'none') {{\n",
       "            console.log([gd, 'removed!']);\n",
       "            Plotly.purge(gd);\n",
       "            observer.disconnect();\n",
       "        }}\n",
       "}});\n",
       "\n",
       "// Listen for the removal of the full notebook cells\n",
       "var notebookContainer = gd.closest('#notebook-container');\n",
       "if (notebookContainer) {{\n",
       "    x.observe(notebookContainer, {childList: true});\n",
       "}}\n",
       "\n",
       "// Listen for the clearing of the current output cell\n",
       "var outputEl = gd.closest('.output');\n",
       "if (outputEl) {{\n",
       "    x.observe(outputEl, {childList: true});\n",
       "}}\n",
       "\n",
       "                        })\n",
       "                };\n",
       "                });\n",
       "            </script>\n",
       "        </div>"
      ]
     },
     "metadata": {},
     "output_type": "display_data"
    }
   ],
   "source": [
    "\"\"\" \n",
    "- group entire sales by date column\n",
    "- use .rolling() function to estimate mean \n",
    "- add resulted column to dataframe \n",
    "\"\"\"\n",
    "data_moving=data.groupby('date')['sales'].sum().to_frame()\n",
    "\n",
    "data_moving['3_moving_av']= data_moving['sales'].rolling(window=3, min_periods=0).mean()\n",
    "\n",
    "trace_1 = go.Scatter(\n",
    "   x=data_moving.index,\n",
    "   y=data_moving['sales'],\n",
    "   name = \"sales amount\",\n",
    "   line = dict(color = '#dd870f'),\n",
    "   opacity = 1)\n",
    "\n",
    "trace_2 = go.Scatter(\n",
    "   x=data_moving.index,\n",
    "   y=data_moving['3_moving_av'],\n",
    "   name = \"moving-average\",\n",
    "   line = dict(color = '#7F7F7F'),\n",
    "   opacity = 1)\n",
    "\n",
    "data_traces = [trace_1,trace_2]\n",
    "\n",
    "layout = dict(\n",
    "   title='Moving average for sales amount', template = 'none')\n",
    "\n",
    "fig = dict(data=data_traces, layout = layout)\n",
    "iplot(fig)"
   ]
  },
  {
   "cell_type": "markdown",
   "metadata": {},
   "source": [
    "### Data preparation for modelling"
   ]
  },
  {
   "cell_type": "markdown",
   "metadata": {},
   "source": [
    "**Step 1**: the sequence preparation"
   ]
  },
  {
   "cell_type": "code",
   "execution_count": 11,
   "metadata": {},
   "outputs": [
    {
     "data": {
      "text/plain": [
       "[29836.0, 29415.0, 47576.0, 37701.0, 41465.0]"
      ]
     },
     "execution_count": 11,
     "metadata": {},
     "output_type": "execute_result"
    }
   ],
   "source": [
    "data_full = [float(target) for target in data['sales']]\n",
    "data_full[:5]"
   ]
  },
  {
   "cell_type": "code",
   "execution_count": 13,
   "metadata": {},
   "outputs": [
    {
     "name": "stdout",
     "output_type": "stream",
     "text": [
      "Size of training data: 82\n",
      "Size of evaluation data: 14\n",
      "Training data samples: [29836.0, 29415.0, 47576.0, 37701.0, 41465.0]\n",
      "Evaluation data samples: [51738.0, 58526.0, 43439.0, 40929.0, 63038.0]\n"
     ]
    }
   ],
   "source": [
    "# set validation data to be 15% from whole data\n",
    "eval_size = int(len(data_full)*0.15)\n",
    "train_data = data_full[:len(data_full)-eval_size]\n",
    "eval_data = data_full[len(data_full)-eval_size:]\n",
    "\n",
    "print('Size of training data:', len(train_data))\n",
    "print('Size of evaluation data:', len(eval_data))\n",
    "\n",
    "print('Training data samples:', train_data[:5])\n",
    "print('Evaluation data samples:', eval_data[:5])"
   ]
  },
  {
   "cell_type": "markdown",
   "metadata": {},
   "source": [
    "**Step 2**: Scaling data to be from `-1` to `1`"
   ]
  },
  {
   "cell_type": "code",
   "execution_count": 14,
   "metadata": {},
   "outputs": [],
   "source": [
    "def data_scaling(dataset):\n",
    "    # define scaler for data to be in range [-1,1]\n",
    "    scaler = MinMaxScaler(feature_range=(-1, 1))\n",
    "    data_norm = scaler.fit_transform(np.array(dataset).reshape(-1, 1))\n",
    "    data_norm_tensor = torch.Tensor(data_norm).view(-1)\n",
    "    return data_norm_tensor"
   ]
  },
  {
   "cell_type": "code",
   "execution_count": 15,
   "metadata": {},
   "outputs": [],
   "source": [
    "train_data_norm = data_scaling(train_data)\n",
    "eval_data_norm = data_scaling(eval_data)"
   ]
  },
  {
   "cell_type": "code",
   "execution_count": 16,
   "metadata": {},
   "outputs": [
    {
     "name": "stdout",
     "output_type": "stream",
     "text": [
      "Normalized train data shape: 82\n",
      "Normalized train data examples: tensor([-0.7775, -0.8007,  0.1991, -0.3445, -0.1373])\n"
     ]
    }
   ],
   "source": [
    "print('Normalized train data shape:', len(train_data_norm))\n",
    "print('Normalized train data examples:', train_data_norm[:5])"
   ]
  },
  {
   "cell_type": "markdown",
   "metadata": {},
   "source": [
    "**Step 3:** prepare sequence and targets"
   ]
  },
  {
   "cell_type": "markdown",
   "metadata": {},
   "source": [
    "The idea is to prepare the sequence of `12` inputs per each. The label (or target) will be the value of `13`- th month. Therefore, we will predict 13th month based on values from last 12 months. <br>\n",
    "In this case `12` = `T` (or `seq_len`), `batch = 1` and `input_size = 1`.  <br>\n",
    "Small remark on `input_size`: if case we have some metadata (GDP, material price and etc.), the number of features would be `input_size`. Now, we have one only.<br>\n",
    "Dealing with text, `input_size` is often `embedding_dim` - the dimension of words' embeddings."
   ]
  },
  {
   "cell_type": "code",
   "execution_count": 17,
   "metadata": {},
   "outputs": [],
   "source": [
    "def prepare_sequence(data, seq_len):\n",
    "    data_seq = []\n",
    "    for i in range(len(data)-seq_len):\n",
    "        seq = data[i:i+seq_len]\n",
    "        label = data[i+seq_len:i+seq_len+1]\n",
    "        data_seq.append((seq,label))\n",
    "    return data_seq"
   ]
  },
  {
   "cell_type": "code",
   "execution_count": 18,
   "metadata": {},
   "outputs": [],
   "source": [
    "train_data_norm_seq = prepare_sequence(train_data_norm, seq_len=12)\n",
    "eval_data_norm_seq = prepare_sequence(eval_data_norm, seq_len=12)"
   ]
  },
  {
   "cell_type": "markdown",
   "metadata": {},
   "source": [
    "## Model Building"
   ]
  },
  {
   "cell_type": "markdown",
   "metadata": {},
   "source": [
    "### Baseline model: 1 layer"
   ]
  },
  {
   "cell_type": "code",
   "execution_count": 20,
   "metadata": {},
   "outputs": [],
   "source": [
    "class LSTM(nn.Module):\n",
    "    def __init__(self, input_size, hidden_dim, num_layers, output_dim=1, p = 0.0):\n",
    "        super(LSTM, self).__init__()\n",
    "        # define the input size, hidden dimension and number of layers\n",
    "        self.input_size = input_size\n",
    "        self.hidden_dim = hidden_dim\n",
    "        self.num_layers = num_layers\n",
    "        # define LSTM model \n",
    "        self.lstm = nn.LSTM(input_size, hidden_dim, num_layers, dropout = p)\n",
    "        # create fully-connected layer\n",
    "        self.fc = nn.Linear(hidden_dim, output_dim)\n",
    "        self.hidden = self.init_hidden()\n",
    "\n",
    "    def init_hidden(self):\n",
    "        h0 = torch.zeros(self.num_layers, 1, self.hidden_dim)\n",
    "        c0 = torch.zeros(self.num_layers, 1, self.hidden_dim)\n",
    "        return (h0, c0)        \n",
    "    \n",
    "    def forward(self, sequence):\n",
    "        # initialize (h0, c0)\n",
    "        h0 = torch.zeros(self.num_layers, 1, self.hidden_dim)\n",
    "        c0 = torch.zeros(self.num_layers, 1, self.hidden_dim)\n",
    "        # hidden will have shape of (num_layers, batch_size, hidden_dim)\n",
    "        # output will have a shape of (sequence_length, batch_size, hidden_dim)\n",
    "        x, hidden = self.lstm(sequence.view(len(sequence), 1, -1), self.hidden)\n",
    "        # input to linear layer (fully-connected) has a shape of(sequence_length, hidden_dim)\n",
    "        # output has a shape of (sequence_length, output_dim)\n",
    "        # note, we will use the output from last timestep (12th)\n",
    "        x = x[-1].view(1, -1)\n",
    "        pred = self.fc(x)\n",
    "        return pred.view(-1)"
   ]
  },
  {
   "cell_type": "code",
   "execution_count": 21,
   "metadata": {},
   "outputs": [],
   "source": [
    "model_base = LSTM(input_size = 1, hidden_dim = 100, num_layers = 1)"
   ]
  },
  {
   "cell_type": "code",
   "execution_count": 22,
   "metadata": {},
   "outputs": [],
   "source": [
    "criterion = nn.MSELoss()\n",
    "optimizer = torch.optim.Adam(model_base.parameters(), lr=0.001)"
   ]
  },
  {
   "cell_type": "code",
   "execution_count": 23,
   "metadata": {},
   "outputs": [],
   "source": [
    "\"\"\"\n",
    " - visualize the loss as the model training\n",
    "\"\"\"\n",
    "\n",
    "def plot_loss(training_losses, validation_losses):\n",
    "    fig = plt.figure(figsize = (12,6))\n",
    "    plt.plot(training_losses, label = 'Training loss')\n",
    "    plt.plot(validation_losses, label = 'Validation loss')\n",
    "    plt.xlabel('epoch')\n",
    "    plt.ylabel('Average loss')\n",
    "    plt.ylim(0, max(validation_losses)) # consistent scale\n",
    "    \n",
    "    plt.legend()\n",
    "    plt.show()"
   ]
  },
  {
   "cell_type": "code",
   "execution_count": 24,
   "metadata": {},
   "outputs": [],
   "source": [
    "def train(epochs, model, optimizer, criterion, train_data, valid_data): \n",
    "    training_losses = []\n",
    "    validation_losses = []\n",
    "    \n",
    "    for epoch in range(1, epochs + 1):\n",
    "        training_loss = 0.0\n",
    "        valid_loss = 0.0\n",
    "        # enable training mode\n",
    "        model.train()\n",
    "        for seq, label in train_data:\n",
    "            model.zero_grad()\n",
    "            model.hidden = model.init_hidden()          \n",
    "            pred = model(seq)\n",
    "            loss = criterion(pred, label)\n",
    "            loss.backward()\n",
    "            optimizer.step()\n",
    "            training_loss += loss.item()\n",
    "        # calculate average training loss per epoch\n",
    "        training_loss /= len(train_data)\n",
    "        training_losses.append(training_loss)\n",
    "        \n",
    "        # enable validation mode \n",
    "        model.eval()\n",
    "        for seq, label in valid_data:\n",
    "            pred = model(seq)\n",
    "            loss = criterion(pred, label)\n",
    "            valid_loss += loss.item()\n",
    "        # calculate average validation loss per epoch\n",
    "        valid_loss /= len(valid_data)\n",
    "        validation_losses.append(valid_loss)\n",
    "        # print losses\n",
    "        if epoch % 10 == 0:\n",
    "            print('Epoch: {}, Training Loss: {:.5f}, Validation Loss: {:.5f}'.format(epoch, training_loss, valid_loss))\n",
    "    \n",
    "    plot_loss(training_losses, validation_losses)\n"
   ]
  },
  {
   "cell_type": "code",
   "execution_count": 25,
   "metadata": {},
   "outputs": [
    {
     "name": "stdout",
     "output_type": "stream",
     "text": [
      "Epoch: 10, Training Loss: 0.15455, Validation Loss: 0.17162\n",
      "Epoch: 20, Training Loss: 0.09456, Validation Loss: 0.11543\n",
      "Epoch: 30, Training Loss: 0.07397, Validation Loss: 0.01920\n",
      "Epoch: 40, Training Loss: 0.05422, Validation Loss: 0.00041\n",
      "Epoch: 50, Training Loss: 0.04141, Validation Loss: 0.00662\n",
      "Epoch: 60, Training Loss: 0.02717, Validation Loss: 0.03154\n",
      "Epoch: 70, Training Loss: 0.02103, Validation Loss: 0.01134\n",
      "Epoch: 80, Training Loss: 0.01557, Validation Loss: 0.04894\n",
      "Epoch: 90, Training Loss: 0.01619, Validation Loss: 0.02725\n",
      "Epoch: 100, Training Loss: 0.00890, Validation Loss: 0.04556\n",
      "Epoch: 110, Training Loss: 0.00654, Validation Loss: 0.03085\n",
      "Epoch: 120, Training Loss: 0.01677, Validation Loss: 0.07279\n",
      "Epoch: 130, Training Loss: 0.00602, Validation Loss: 0.07779\n",
      "Epoch: 140, Training Loss: 0.00995, Validation Loss: 0.03355\n",
      "Epoch: 150, Training Loss: 0.00609, Validation Loss: 0.06060\n",
      "Epoch: 160, Training Loss: 0.00304, Validation Loss: 0.03401\n",
      "Epoch: 170, Training Loss: 0.00485, Validation Loss: 0.05225\n",
      "Epoch: 180, Training Loss: 0.00324, Validation Loss: 0.05953\n",
      "Epoch: 190, Training Loss: 0.01491, Validation Loss: 0.05198\n",
      "Epoch: 200, Training Loss: 0.00611, Validation Loss: 0.04674\n",
      "Epoch: 210, Training Loss: 0.00180, Validation Loss: 0.04204\n",
      "Epoch: 220, Training Loss: 0.00638, Validation Loss: 0.04830\n",
      "Epoch: 230, Training Loss: 0.00326, Validation Loss: 0.06353\n",
      "Epoch: 240, Training Loss: 0.00230, Validation Loss: 0.04151\n",
      "Epoch: 250, Training Loss: 0.00170, Validation Loss: 0.03012\n",
      "Epoch: 260, Training Loss: 0.00209, Validation Loss: 0.04550\n",
      "Epoch: 270, Training Loss: 0.00267, Validation Loss: 0.04483\n",
      "Epoch: 280, Training Loss: 0.00096, Validation Loss: 0.03545\n",
      "Epoch: 290, Training Loss: 0.00368, Validation Loss: 0.02764\n",
      "Epoch: 300, Training Loss: 0.00065, Validation Loss: 0.03091\n"
     ]
    },
    {
     "data": {
      "image/png": "[encoded data removed]",
      "text/plain": [
       "<Figure size 864x432 with 1 Axes>"
      ]
     },
     "metadata": {
      "needs_background": "light"
     },
     "output_type": "display_data"
    }
   ],
   "source": [
    "train(300, model_base, optimizer, criterion, train_data_norm_seq, eval_data_norm_seq)"
   ]
  },
  {
   "cell_type": "markdown",
   "metadata": {},
   "source": [
    "### 2-layers model"
   ]
  },
  {
   "cell_type": "markdown",
   "metadata": {},
   "source": [
    "Add the second layer of LSTM on top of the first one. Increase the dropout value to have `p=0.1`. "
   ]
  },
  {
   "cell_type": "code",
   "execution_count": 26,
   "metadata": {},
   "outputs": [],
   "source": [
    "# a couple of more details on dropout: https://discuss.pytorch.org/t/dropout-for-rnns/633\n",
    "model_2_layers = LSTM(input_size = 1, hidden_dim = 100, num_layers = 2, p = 0.1)\n",
    "optimizer_2_layer = torch.optim.Adam(model_2_layers.parameters(), lr=0.001)"
   ]
  },
  {
   "cell_type": "code",
   "execution_count": 27,
   "metadata": {},
   "outputs": [
    {
     "name": "stdout",
     "output_type": "stream",
     "text": [
      "Epoch: 10, Training Loss: 0.15290, Validation Loss: 0.14763\n",
      "Epoch: 20, Training Loss: 0.09830, Validation Loss: 0.02388\n",
      "Epoch: 30, Training Loss: 0.05396, Validation Loss: 0.00762\n",
      "Epoch: 40, Training Loss: 0.03888, Validation Loss: 0.00058\n",
      "Epoch: 50, Training Loss: 0.03720, Validation Loss: 0.02469\n",
      "Epoch: 60, Training Loss: 0.02085, Validation Loss: 0.02527\n",
      "Epoch: 70, Training Loss: 0.01308, Validation Loss: 0.02409\n",
      "Epoch: 80, Training Loss: 0.00994, Validation Loss: 0.02222\n",
      "Epoch: 90, Training Loss: 0.00765, Validation Loss: 0.02608\n",
      "Epoch: 100, Training Loss: 0.02135, Validation Loss: 0.02181\n",
      "Epoch: 110, Training Loss: 0.00501, Validation Loss: 0.02635\n",
      "Epoch: 120, Training Loss: 0.00463, Validation Loss: 0.01163\n",
      "Epoch: 130, Training Loss: 0.00467, Validation Loss: 0.01041\n",
      "Epoch: 140, Training Loss: 0.00454, Validation Loss: 0.00577\n",
      "Epoch: 150, Training Loss: 0.00967, Validation Loss: 0.01876\n",
      "Epoch: 160, Training Loss: 0.00328, Validation Loss: 0.01020\n",
      "Epoch: 170, Training Loss: 0.02368, Validation Loss: 0.01304\n",
      "Epoch: 180, Training Loss: 0.00186, Validation Loss: 0.01734\n",
      "Epoch: 190, Training Loss: 0.01097, Validation Loss: 0.02219\n",
      "Epoch: 200, Training Loss: 0.00190, Validation Loss: 0.01706\n",
      "Epoch: 210, Training Loss: 0.00293, Validation Loss: 0.00732\n",
      "Epoch: 220, Training Loss: 0.00122, Validation Loss: 0.01227\n",
      "Epoch: 230, Training Loss: 0.00086, Validation Loss: 0.01079\n",
      "Epoch: 240, Training Loss: 0.01458, Validation Loss: 0.02092\n",
      "Epoch: 250, Training Loss: 0.00115, Validation Loss: 0.00550\n",
      "Epoch: 260, Training Loss: 0.00043, Validation Loss: 0.00393\n",
      "Epoch: 270, Training Loss: 0.00162, Validation Loss: 0.00546\n",
      "Epoch: 280, Training Loss: 0.00433, Validation Loss: 0.01405\n",
      "Epoch: 290, Training Loss: 0.00069, Validation Loss: 0.00970\n",
      "Epoch: 300, Training Loss: 0.00124, Validation Loss: 0.01097\n"
     ]
    },
    {
     "data": {
      "image/png": "[encoded data removed]",
      "text/plain": [
       "<Figure size 864x432 with 1 Axes>"
      ]
     },
     "metadata": {
      "needs_background": "light"
     },
     "output_type": "display_data"
    }
   ],
   "source": [
    "train(300, model_2_layers, optimizer_2_layer, criterion, train_data_norm_seq, eval_data_norm_seq)"
   ]
  },
  {
   "cell_type": "markdown",
   "metadata": {},
   "source": [
    "**Further research**:\n",
    "\n",
    "1. As we could observe from graphs above, the *validation loss* tends to oscillate for both 1-layer and 2-layer models. Adding more data and increasing the size of validation dataset can potentially help stabilizing error. \n",
    "2. However, adding the second layer to a model with the usage of dropout (`p=1`) partially mitigated the bias between training and validation loss after 50 epochs. Further parameters-tuning can help to increase performance."
   ]
  },
  {
   "cell_type": "code",
   "execution_count": null,
   "metadata": {},
   "outputs": [],
   "source": []
  }
 ],
 "metadata": {
  "kernelspec": {
   "display_name": "Python 3",
   "language": "python",
   "name": "python3"
  },
  "language_info": {
   "codemirror_mode": {
    "name": "ipython",
    "version": 3
   },
   "file_extension": ".py",
   "mimetype": "text/x-python",
   "name": "python",
   "nbconvert_exporter": "python",
   "pygments_lexer": "ipython3",
   "version": "3.6.8"
  }
 },
 "nbformat": 4,
 "nbformat_minor": 2
}
